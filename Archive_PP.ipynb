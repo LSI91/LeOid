{
 "cells": [
  {
   "cell_type": "code",
   "execution_count": 1,
   "id": "00f15858-6c6d-4a85-b242-886531c98b85",
   "metadata": {},
   "outputs": [],
   "source": [
    "import numpy as np\n",
    "import pandas as pd\n",
    "import copy\n",
    "import matplotlib.pyplot as plt\n",
    "import cvxpy as cp\n",
    "import sys\n",
    "import warnings\n",
    "import urllib.request\n",
    "import zipfile\n",
    "import seaborn as sns\n",
    "\n",
    "from pypfopt.expected_returns import mean_historical_return, ema_historical_return\n",
    "from pypfopt.risk_models import CovarianceShrinkage, risk_matrix\n",
    "from pypfopt.efficient_frontier import EfficientFrontier\n",
    "from pypfopt import objective_functions\n",
    "from pypfopt import plotting\n",
    "from pypfopt import black_litterman, risk_models\n",
    "from pypfopt.black_litterman import BlackLittermanModel\n",
    "\n",
    "from sklearn.linear_model import LinearRegression\n",
    "from sklearn.metrics import mean_squared_error, r2_score\n",
    "from sklearn.model_selection import train_test_split"
   ]
  },
  {
   "cell_type": "code",
   "execution_count": 2,
   "id": "7ea0bdb7-d362-48c6-8f9e-54e4801a83ac",
   "metadata": {},
   "outputs": [],
   "source": [
    "df = pd.read_excel('test_3_AC.xlsx', skiprows=5, index_col=0,date_parser=True)\n",
    "df_header = pd.read_excel('test_3_AC.xlsx', skiprows=2, index_col=0,date_parser=True)\n",
    "df.columns = df_header.columns\n",
    "df.dropna(inplace=True)\n",
    "df=df.loc['2001-08-21':,:]\n",
    "pd.to_datetime(df.index)\n",
    "cov=df.cov()"
   ]
  },
  {
   "cell_type": "code",
   "execution_count": 4,
   "id": "f7586742-7f07-40a3-9990-9b7f9de30ad7",
   "metadata": {},
   "outputs": [],
   "source": [
    "df_ret = df.pct_change().iloc[1:,:].reset_index()"
   ]
  },
  {
   "cell_type": "code",
   "execution_count": 6,
   "id": "a9a46805-f003-4e61-8397-9645aed2f95e",
   "metadata": {},
   "outputs": [],
   "source": [
    "# Fama French de mes fesses - EU"
   ]
  },
  {
   "cell_type": "code",
   "execution_count": 7,
   "id": "6e5738a4-a799-4638-8c24-cc56ec908183",
   "metadata": {},
   "outputs": [],
   "source": [
    "# Extraction FF3Factor \n",
    "\n",
    "ff_url =  \"http://mba.tuck.dartmouth.edu/pages/faculty/ken.french/ftp/Europe_3_Factors_Daily_CSV.zip\"\n",
    "\n",
    "urllib.request.urlretrieve(ff_url,'Europe_3_Factors_Daily.zip')\n",
    "zip_file = zipfile.ZipFile('Europe_3_Factors_Daily.zip', 'r')\n",
    "\n",
    "zip_file.extractall()\n",
    "zip_file.close()\n",
    "\n",
    "# Extraction Momentum\n",
    "\n",
    "ff_url = \"http://mba.tuck.dartmouth.edu/pages/faculty/ken.french/ftp/Europe_Mom_Factor_Daily_CSV.zip\"\n",
    "\n",
    "urllib.request.urlretrieve(ff_url,'Europe_MOM_Factor_Daily.zip')\n",
    "zip_file = zipfile.ZipFile('Europe_MOM_Factor_Daily.zip', 'r')\n",
    "\n",
    "zip_file.extractall()\n",
    "zip_file.close()\n"
   ]
  },
  {
   "cell_type": "code",
   "execution_count": 8,
   "id": "988cd422-6f32-4349-a121-8bf932370988",
   "metadata": {},
   "outputs": [],
   "source": [
    "# Mise en forme\n",
    "\n",
    "ff_fact_ret = pd.read_csv('Europe_3_Factors_Daily.csv',skiprows=6,index_col=0,parse_dates=True).reset_index().iloc[:-1,:]\n",
    "ff_fact_ret['index'] = pd.to_datetime(ff_fact_ret['index'])\n",
    "\n",
    "mom_fact_ret = pd.read_csv('Europe_MOM_Factor_Daily.csv',skiprows=6,index_col=0,parse_dates=True).reset_index().iloc[:-1,:]\n",
    "mom_fact_ret['index'] = pd.to_datetime(mom_fact_ret['index'])\n",
    "\n",
    "ffm_fact_ret = pd.merge(left=ff_fact_ret, right=mom_fact_ret, how='inner',on='index').set_index('index').reset_index()\n",
    "df_ret = df.pct_change().iloc[1:,:]\n",
    "\n",
    "X_EU = df_ret[['MSCI EUROPE NR']]\n",
    "y_EU = ffm_fact_ret.set_index('index').loc['2001-08-22':].reset_index()\n",
    "\n",
    "X_EU=X_EU.reset_index()\n",
    "df_reg_EU = pd.merge(left=X_EU, right=y_EU, how='inner',left_on='Dates',right_on='index').set_index('index').reset_index()\n",
    "\n",
    "X_EU = df_ret[['MSCI EUROPE NR']]\n",
    "y_EU = df_reg_EU.iloc[:,3:]\n",
    "X_EU = X_EU *100"
   ]
  },
  {
   "cell_type": "code",
   "execution_count": 9,
   "id": "fd69dd60-be4d-46d7-ab06-4aa257a08004",
   "metadata": {},
   "outputs": [
    {
     "data": {
      "text/plain": [
       "1.134508037134072"
      ]
     },
     "execution_count": 9,
     "metadata": {},
     "output_type": "execute_result"
    }
   ],
   "source": [
    "#http://erwan.marginalq.com/index_files/tea_files/Python%20application%202.html\n",
    "\n",
    "xMkt_RFEU=df_reg_EU['Mkt-RF']\n",
    "xSMBEU=df_reg_EU['SMB']\n",
    "xHMLEU=df_reg_EU['HML']\n",
    "xWMLEU=df_reg_EU['WML']\n",
    "\n",
    "yMSCIEU=df_reg_EU['MSCI EUROPE NR']*100\n",
    "\n",
    "mMkt_RFEU, b = np.polyfit(xMkt_RFEU, yMSCIEU, 1)\n",
    "mSMBEU, b = np.polyfit(xSMBEU, yMSCIEU, 1)\n",
    "mHMLEU, b = np.polyfit(xHMLEU, yMSCIEU, 1)\n",
    "mWMLEU, b = np.polyfit(xWMLEU, yMSCIEU, 1)\n",
    "\n",
    "\n",
    "b1Eu = mMkt_RFEU\n",
    "b2Eu = mSMBEU\n",
    "b3Eu = mHMLEU\n",
    "b4Eu = mWMLEU\n",
    "\n",
    "market_premium_EU = df_reg_EU['Mkt-RF'].mean()\n",
    "size_premium_EU = df_reg_EU['SMB'].mean()\n",
    "value_premium_EU = df_reg_EU['HML'].mean()\n",
    "momentum_EU = df_reg_EU['WML'].mean()\n",
    "Risk_Free_EU = df_reg_EU['RF'].mean()\n",
    "\n",
    "Expected_Return_Final_EU = b1Eu*market_premium_EU + b2Eu*size_premium_EU + b3Eu*value_premium_EU + b4Eu*momentum_EU + Risk_Free_EU\n",
    "\n",
    "Expected_Return_Final_EU_Annualized = Expected_Return_Final_EU*252\n",
    "Expected_Return_Final_EU_Annualized"
   ]
  },
  {
   "cell_type": "code",
   "execution_count": null,
   "id": "0c8c800b-7d05-44ef-96a7-47de8471bded",
   "metadata": {},
   "outputs": [],
   "source": []
  }
 ],
 "metadata": {
  "kernelspec": {
   "display_name": "Python 3 (ipykernel)",
   "language": "python",
   "name": "python3"
  },
  "language_info": {
   "codemirror_mode": {
    "name": "ipython",
    "version": 3
   },
   "file_extension": ".py",
   "mimetype": "text/x-python",
   "name": "python",
   "nbconvert_exporter": "python",
   "pygments_lexer": "ipython3",
   "version": "3.8.8"
  }
 },
 "nbformat": 4,
 "nbformat_minor": 5
}
