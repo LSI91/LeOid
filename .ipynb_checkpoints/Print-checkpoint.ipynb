{
 "cells": [
  {
   "cell_type": "code",
<<<<<<< HEAD
   "execution_count": 1,
   "id": "83cde885-67b1-4ae9-ba66-1011bf60ca31",
=======
   "execution_count": 3,
   "id": "f8433634-4d67-401e-810d-54626285008e",
>>>>>>> f9e01a1ca55e55f9044b3280f7168a3351997214
   "metadata": {},
   "outputs": [
    {
     "name": "stdout",
     "output_type": "stream",
     "text": [
<<<<<<< HEAD
      "preent\n"
=======
      "print\n"
>>>>>>> f9e01a1ca55e55f9044b3280f7168a3351997214
     ]
    }
   ],
   "source": [
<<<<<<< HEAD
    "print(\"preent\")"
=======
    "print('print')"
>>>>>>> f9e01a1ca55e55f9044b3280f7168a3351997214
   ]
  },
  {
   "cell_type": "code",
   "execution_count": null,
<<<<<<< HEAD
   "id": "cfdd1642-087c-4406-823d-f99e95be7f21",
=======
   "id": "ed2f04cf-11d8-4b6e-856f-d4c377ab870b",
>>>>>>> f9e01a1ca55e55f9044b3280f7168a3351997214
   "metadata": {},
   "outputs": [],
   "source": []
  }
 ],
 "metadata": {
  "kernelspec": {
   "display_name": "Python 3 (ipykernel)",
   "language": "python",
   "name": "python3"
  },
  "language_info": {
   "codemirror_mode": {
    "name": "ipython",
    "version": 3
   },
   "file_extension": ".py",
   "mimetype": "text/x-python",
   "name": "python",
   "nbconvert_exporter": "python",
   "pygments_lexer": "ipython3",
<<<<<<< HEAD
   "version": "3.8.8"
=======
   "version": "3.9.7"
>>>>>>> f9e01a1ca55e55f9044b3280f7168a3351997214
  }
 },
 "nbformat": 4,
 "nbformat_minor": 5
}
